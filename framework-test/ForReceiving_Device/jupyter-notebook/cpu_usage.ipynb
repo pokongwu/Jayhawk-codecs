{
 "cells": [
  {
   "cell_type": "code",
   "execution_count": 26,
   "metadata": {},
   "outputs": [
    {
     "data": {
      "image/png": "[encoded data removed]",
      "text/plain": [
       "<Figure size 432x288 with 1 Axes>"
      ]
     },
     "metadata": {
      "needs_background": "light"
     },
     "output_type": "display_data"
    },
    {
     "data": {
      "text/plain": [
       "value    498.917447\n",
       "value    550.701725\n",
       "value    593.812320\n",
       "value    728.494878\n",
       "value    792.339980\n",
       "value    835.600212\n",
       "value    888.762819\n",
       "dtype: float64"
      ]
     },
     "execution_count": 26,
     "metadata": {},
     "output_type": "execute_result"
    }
   ],
   "source": [
    "import pandas as pd\n",
    "import numpy as np\n",
    "import matplotlib.pyplot as plt\n",
    "#import a csv file\n",
    "cpu_cvlc_h264_trial1=pd.read_csv('raw_data/cpu_cvlch264_trial1')\n",
    "cpu_cvlc_h264_trial2=pd.read_csv('raw_data/cpu_cvlch264_trial2')\n",
    "cpu_cvlc_h264_trial3=pd.read_csv('raw_data/cpu_cvlch264_trial3')\n",
    "cpu_cvlc_h264_trial4=pd.read_csv('raw_data/cpu_cvlch264_trial4')\n",
    "cpu_cvlc_h264_trial5=pd.read_csv('raw_data/cpu_cvlch264_trial5')\n",
    "cpu_cvlc_h264_trial6=pd.read_csv('raw_data/cpu_cvlch264_trial6')\n",
    "cpu_cvlc_h264_trial7=pd.read_csv('raw_data/cpu_cvlch264_trial7')\n",
    "#dataframes to calculate mean of column value\n",
    "df1=pd.DataFrame(cpu_cvlc_h264_trial1,columns=['value']).mean(axis=0)\n",
    "df2=pd.DataFrame(cpu_cvlc_h264_trial2,columns=['value']).mean(axis=0)\n",
    "df3=pd.DataFrame(cpu_cvlc_h264_trial3,columns=['value']).mean(axis=0)\n",
    "df4=pd.DataFrame(cpu_cvlc_h264_trial4,columns=['value']).mean(axis=0)\n",
    "df5=pd.DataFrame(cpu_cvlc_h264_trial5,columns=['value']).mean(axis=0)\n",
    "df6=pd.DataFrame(cpu_cvlc_h264_trial6,columns=['value']).mean(axis=0)\n",
    "df7=pd.DataFrame(cpu_cvlc_h264_trial7,columns=['value']).mean(axis=0)\n",
    "#concat dataframes\n",
    "bp1=pd.concat([df1,df2,df3,df4,df5,df6,df7])\n",
    "#plot boxplot\n",
    "plt.boxplot(bp1)\n",
    "plt.title('cpu_cvlc_h264')\n",
    "plt.ylabel('value')\n",
    "plt.show()\n",
    "bp1"
   ]
  },
  {
   "cell_type": "code",
   "execution_count": 27,
   "metadata": {},
   "outputs": [
    {
     "data": {
      "image/png": "[encoded data removed]",
      "text/plain": [
       "<Figure size 432x288 with 1 Axes>"
      ]
     },
     "metadata": {
      "needs_background": "light"
     },
     "output_type": "display_data"
    },
    {
     "data": {
      "text/plain": [
       "value     98.867129\n",
       "value    118.764929\n",
       "value    134.876841\n",
       "value    155.064093\n",
       "value    170.980805\n",
       "value    195.168399\n",
       "value    211.398444\n",
       "dtype: float64"
      ]
     },
     "execution_count": 27,
     "metadata": {},
     "output_type": "execute_result"
    }
   ],
   "source": [
    "import pandas as pd\n",
    "import numpy as np\n",
    "import matplotlib.pyplot as plt\n",
    "#import a csv file\n",
    "cpu_cvlc_mjpeg_trial1=pd.read_csv('raw_data/cpu_cvlcmjpeg_trial1')\n",
    "cpu_cvlc_mjpeg_trial2=pd.read_csv('raw_data/cpu_cvlcmjpeg_trial2')\n",
    "cpu_cvlc_mjpeg_trial3=pd.read_csv('raw_data/cpu_cvlcmjpeg_trial3')\n",
    "cpu_cvlc_mjpeg_trial4=pd.read_csv('raw_data/cpu_cvlcmjpeg_trial4')\n",
    "cpu_cvlc_mjpeg_trial5=pd.read_csv('raw_data/cpu_cvlcmjpeg_trial5')\n",
    "cpu_cvlc_mjpeg_trial6=pd.read_csv('raw_data/cpu_cvlcmjpeg_trial6')\n",
    "cpu_cvlc_mjpeg_trial7=pd.read_csv('raw_data/cpu_cvlcmjpeg_trial7')\n",
    "#dataframes to calculate mean of column value\n",
    "df1=pd.DataFrame(cpu_cvlc_mjpeg_trial1,columns=['value']).mean(axis=0)\n",
    "df2=pd.DataFrame(cpu_cvlc_mjpeg_trial2,columns=['value']).mean(axis=0)\n",
    "df3=pd.DataFrame(cpu_cvlc_mjpeg_trial3,columns=['value']).mean(axis=0)\n",
    "df4=pd.DataFrame(cpu_cvlc_mjpeg_trial4,columns=['value']).mean(axis=0)\n",
    "df5=pd.DataFrame(cpu_cvlc_mjpeg_trial5,columns=['value']).mean(axis=0)\n",
    "df6=pd.DataFrame(cpu_cvlc_mjpeg_trial6,columns=['value']).mean(axis=0)\n",
    "df7=pd.DataFrame(cpu_cvlc_mjpeg_trial7,columns=['value']).mean(axis=0)\n",
    "#concat dataframes\n",
    "bp2=pd.concat([df1,df2,df3,df4,df5,df6,df7])\n",
    "#plot boxplot\n",
    "plt.boxplot(bp2)\n",
    "plt.title('cpu_cvlc_mjpeg')\n",
    "plt.ylabel('value')\n",
    "plt.show()\n",
    "bp2"
   ]
  },
  {
   "cell_type": "code",
   "execution_count": 28,
   "metadata": {},
   "outputs": [
    {
     "data": {
      "image/png": "[encoded data removed]",
      "text/plain": [
       "<Figure size 432x288 with 1 Axes>"
      ]
     },
     "metadata": {
      "needs_background": "light"
     },
     "output_type": "display_data"
    },
    {
     "data": {
      "text/plain": [
       "value     73.518431\n",
       "value     88.535557\n",
       "value    106.403119\n",
       "value      6.744403\n",
       "value     21.009586\n",
       "value     39.285683\n",
       "value     54.396250\n",
       "dtype: float64"
      ]
     },
     "execution_count": 28,
     "metadata": {},
     "output_type": "execute_result"
    }
   ],
   "source": [
    "import pandas as pd\n",
    "import numpy as np\n",
    "import matplotlib.pyplot as plt\n",
    "#import a csv file\n",
    "cpu_ffmpeg_h264_trial1=pd.read_csv('raw_data/cpu_ffmpegh264_trail1')\n",
    "cpu_ffmpeg_h264_trial2=pd.read_csv('raw_data/cpu_ffmpegh264_trail2')\n",
    "cpu_ffmpeg_h264_trial3=pd.read_csv('raw_data/cpu_ffmpegh264_trail3')\n",
    "cpu_ffmpeg_h264_trial4=pd.read_csv('raw_data/cpu_ffmpegh264_trail4')\n",
    "cpu_ffmpeg_h264_trial5=pd.read_csv('raw_data/cpu_ffmpegh264_trail5')\n",
    "cpu_ffmpeg_h264_trial6=pd.read_csv('raw_data/cpu_ffmpegh264_trail6')\n",
    "cpu_ffmpeg_h264_trial7=pd.read_csv('raw_data/cpu_ffmpegh264_trail7')\n",
    "#dataframes to calculate mean of column value\n",
    "df1=pd.DataFrame(cpu_ffmpeg_h264_trial1,columns=['value']).mean(axis=0)\n",
    "df2=pd.DataFrame(cpu_ffmpeg_h264_trial2,columns=['value']).mean(axis=0)\n",
    "df3=pd.DataFrame(cpu_ffmpeg_h264_trial3,columns=['value']).mean(axis=0)\n",
    "df4=pd.DataFrame(cpu_ffmpeg_h264_trial4,columns=['value']).mean(axis=0)\n",
    "df5=pd.DataFrame(cpu_ffmpeg_h264_trial5,columns=['value']).mean(axis=0)\n",
    "df6=pd.DataFrame(cpu_ffmpeg_h264_trial6,columns=['value']).mean(axis=0)\n",
    "df7=pd.DataFrame(cpu_ffmpeg_h264_trial7,columns=['value']).mean(axis=0)\n",
    "#concat dataframes\n",
    "bp3=pd.concat([df1,df2,df3,df4,df5,df6,df7])\n",
    "#plot boxplot\n",
    "plt.boxplot(bp3)\n",
    "plt.title('cpu_ffmpeg_h264')\n",
    "plt.ylabel('value')\n",
    "plt.show()\n",
    "bp3"
   ]
  },
  {
   "cell_type": "code",
   "execution_count": 29,
   "metadata": {},
   "outputs": [
    {
     "data": {
      "image/png": "[encoded data removed]",
      "text/plain": [
       "<Figure size 432x288 with 1 Axes>"
      ]
     },
     "metadata": {
      "needs_background": "light"
     },
     "output_type": "display_data"
    },
    {
     "data": {
      "text/plain": [
       "value      5.874225\n",
       "value     24.869540\n",
       "value     39.819098\n",
       "value     54.841023\n",
       "value     69.801451\n",
       "value     84.425407\n",
       "value    103.394383\n",
       "dtype: float64"
      ]
     },
     "execution_count": 29,
     "metadata": {},
     "output_type": "execute_result"
    }
   ],
   "source": [
    "import pandas as pd\n",
    "import numpy as np\n",
    "import matplotlib.pyplot as plt\n",
    "#import a csv file\n",
    "cpu_ffmpeg_mjpeg_trial1=pd.read_csv('raw_data/cpu_ffmpegmjpeg_trail1')\n",
    "cpu_ffmpeg_mjpeg_trial2=pd.read_csv('raw_data/cpu_ffmpegmjpeg_trail2')\n",
    "cpu_ffmpeg_mjpeg_trial3=pd.read_csv('raw_data/cpu_ffmpegmjpeg_trail3')\n",
    "cpu_ffmpeg_mjpeg_trial4=pd.read_csv('raw_data/cpu_ffmpegmjpeg_trail4')\n",
    "cpu_ffmpeg_mjpeg_trial5=pd.read_csv('raw_data/cpu_ffmpegmjpeg_trail5')\n",
    "cpu_ffmpeg_mjpeg_trial6=pd.read_csv('raw_data/cpu_ffmpegmjpeg_trail6')\n",
    "cpu_ffmpeg_mjpeg_trial7=pd.read_csv('raw_data/cpu_ffmpegmjpeg_trail7')\n",
    "#dataframes to calculate mean of column value\n",
    "df1=pd.DataFrame(cpu_ffmpeg_mjpeg_trial1,columns=['value']).mean(axis=0)\n",
    "df2=pd.DataFrame(cpu_ffmpeg_mjpeg_trial2,columns=['value']).mean(axis=0)\n",
    "df3=pd.DataFrame(cpu_ffmpeg_mjpeg_trial3,columns=['value']).mean(axis=0)\n",
    "df4=pd.DataFrame(cpu_ffmpeg_mjpeg_trial4,columns=['value']).mean(axis=0)\n",
    "df5=pd.DataFrame(cpu_ffmpeg_mjpeg_trial5,columns=['value']).mean(axis=0)\n",
    "df6=pd.DataFrame(cpu_ffmpeg_mjpeg_trial6,columns=['value']).mean(axis=0)\n",
    "df7=pd.DataFrame(cpu_ffmpeg_mjpeg_trial7,columns=['value']).mean(axis=0)\n",
    "#concat dataframes\n",
    "bp4=pd.concat([df1,df2,df3,df4,df5,df6,df7])\n",
    "#plot boxplot\n",
    "plt.boxplot(bp4)\n",
    "plt.title('cpu_ffmpeg_mjpeg')\n",
    "plt.ylabel('value')\n",
    "plt.show()\n",
    "bp4"
   ]
  },
  {
   "cell_type": "code",
   "execution_count": 30,
   "metadata": {},
   "outputs": [
    {
     "data": {
      "image/png": "[encoded data removed]",
      "text/plain": [
       "<Figure size 432x288 with 1 Axes>"
      ]
     },
     "metadata": {
      "needs_background": "light"
     },
     "output_type": "display_data"
    },
    {
     "data": {
      "text/plain": [
       "value    0.581968\n",
       "value    0.367434\n",
       "value    0.819139\n",
       "value    1.070685\n",
       "value    1.361736\n",
       "value    1.597502\n",
       "value    1.852042\n",
       "dtype: float64"
      ]
     },
     "execution_count": 30,
     "metadata": {},
     "output_type": "execute_result"
    }
   ],
   "source": [
    "import pandas as pd\n",
    "import numpy as np\n",
    "import matplotlib.pyplot as plt\n",
    "#import a csv file\n",
    "cpu_mjpgstreamer_trial1=pd.read_csv('raw_data/cpu_mjpgstreamer_trail1')\n",
    "cpu_mjpgstreamer_trial2=pd.read_csv('raw_data/cpu_mjpgstreamer_trail2')\n",
    "cpu_mjpgstreamer_trial3=pd.read_csv('raw_data/cpu_mjpgstreamer_trail3')\n",
    "cpu_mjpgstreamer_trial4=pd.read_csv('raw_data/cpu_mjpgstreamer_trail4')\n",
    "cpu_mjpgstreamer_trial5=pd.read_csv('raw_data/cpu_mjpgstreamer_trail5')\n",
    "cpu_mjpgstreamer_trial6=pd.read_csv('raw_data/cpu_mjpgstreamer_trail6')\n",
    "cpu_mjpgstreamer_trial7=pd.read_csv('raw_data/cpu_mjpgstreamer_trail7')\n",
    "#dataframes to calculate mean of column value\n",
    "df1=pd.DataFrame(cpu_mjpgstreamer_trial1,columns=['value']).mean(axis=0)\n",
    "df2=pd.DataFrame(cpu_mjpgstreamer_trial2,columns=['value']).mean(axis=0)\n",
    "df3=pd.DataFrame(cpu_mjpgstreamer_trial3,columns=['value']).mean(axis=0)\n",
    "df4=pd.DataFrame(cpu_mjpgstreamer_trial4,columns=['value']).mean(axis=0)\n",
    "df5=pd.DataFrame(cpu_mjpgstreamer_trial5,columns=['value']).mean(axis=0)\n",
    "df6=pd.DataFrame(cpu_mjpgstreamer_trial6,columns=['value']).mean(axis=0)\n",
    "df7=pd.DataFrame(cpu_mjpgstreamer_trial7,columns=['value']).mean(axis=0)\n",
    "#concat dataframes\n",
    "bp5=pd.concat([df1,df2,df3,df4,df5,df6,df7])\n",
    "#plot boxplot\n",
    "plt.boxplot(bp5)\n",
    "plt.title('cpu_mjpstreamer')\n",
    "plt.ylabel('value')\n",
    "plt.show()\n",
    "bp5"
   ]
  },
  {
   "cell_type": "code",
   "execution_count": 31,
   "metadata": {},
   "outputs": [
    {
     "data": {
      "image/png": "[encoded data removed]",
      "text/plain": [
       "<Figure size 432x288 with 1 Axes>"
      ]
     },
     "metadata": {
      "needs_background": "light"
     },
     "output_type": "display_data"
    },
    {
     "data": {
      "text/plain": [
       "value    303.451397\n",
       "value    353.009444\n",
       "value    403.575858\n",
       "value    465.247643\n",
       "value    566.237581\n",
       "value    628.088040\n",
       "dtype: float64"
      ]
     },
     "execution_count": 31,
     "metadata": {},
     "output_type": "execute_result"
    }
   ],
   "source": [
    "import pandas as pd\n",
    "import numpy as np\n",
    "import matplotlib.pyplot as plt\n",
    "#import a csv file\n",
    "cpu_gstreamer_h264_trial1=pd.read_csv('raw_data/cpu_gstreamerh264_trail1')\n",
    "cpu_gstreamer_h264_trial2=pd.read_csv('raw_data/cpu_gstreamerh264_trail2')\n",
    "cpu_gstreamer_h264_trial3=pd.read_csv('raw_data/cpu_gstreamerh264_trail3')\n",
    "cpu_gstreamer_h264_trial4=pd.read_csv('raw_data/cpu_gstreamerh264_trail4')\n",
    "cpu_gstreamer_h264_trial5=pd.read_csv('raw_data/cpu_gstreamerh264_trail5')\n",
    "cpu_gstreamer_h264_trial6=pd.read_csv('raw_data/cpu_gstreamerh264_trail6')\n",
    "#dataframes to calculate mean of column value\n",
    "df1=pd.DataFrame(cpu_gstreamer_h264_trial1,columns=['value']).mean(axis=0)\n",
    "df2=pd.DataFrame(cpu_gstreamer_h264_trial2,columns=['value']).mean(axis=0)\n",
    "df3=pd.DataFrame(cpu_gstreamer_h264_trial3,columns=['value']).mean(axis=0)\n",
    "df4=pd.DataFrame(cpu_gstreamer_h264_trial4,columns=['value']).mean(axis=0)\n",
    "df5=pd.DataFrame(cpu_gstreamer_h264_trial5,columns=['value']).mean(axis=0)\n",
    "df6=pd.DataFrame(cpu_gstreamer_h264_trial6,columns=['value']).mean(axis=0)\n",
    "#concat dataframes\n",
    "bp6=pd.concat([df1,df2,df3,df4,df5,df6])\n",
    "#plot boxplot\n",
    "plt.boxplot(bp6)\n",
    "plt.title('cpu_gstreamer_h264')\n",
    "plt.ylabel('value')\n",
    "plt.show()\n",
    "bp6"
   ]
  },
  {
   "cell_type": "code",
   "execution_count": 32,
   "metadata": {},
   "outputs": [
    {
     "data": {
      "image/png": "[encoded data removed]",
      "text/plain": [
       "<Figure size 432x288 with 1 Axes>"
      ]
     },
     "metadata": {
      "needs_background": "light"
     },
     "output_type": "display_data"
    },
    {
     "data": {
      "text/plain": [
       "value     64.303526\n",
       "value     78.332084\n",
       "value     89.523531\n",
       "value    100.344665\n",
       "value    111.493741\n",
       "value    125.379253\n",
       "value    136.644269\n",
       "dtype: float64"
      ]
     },
     "execution_count": 32,
     "metadata": {},
     "output_type": "execute_result"
    }
   ],
   "source": [
    "import pandas as pd\n",
    "import numpy as np\n",
    "import matplotlib.pyplot as plt\n",
    "#import a csv file\n",
    "cpu_gstreamer_mjpeg_trial1=pd.read_csv('raw_data/cpu_gstreamer_mjpeg_trial1')\n",
    "cpu_gstreamer_mjpeg_trial2=pd.read_csv('raw_data/cpu_gstreamer_mjpeg_trial2')\n",
    "cpu_gstreamer_mjpeg_trial3=pd.read_csv('raw_data/cpu_gstreamer_mjpeg_trial3')\n",
    "cpu_gstreamer_mjpeg_trial4=pd.read_csv('raw_data/cpu_gstreamer_mjpeg_trial4')\n",
    "cpu_gstreamer_mjpeg_trial5=pd.read_csv('raw_data/cpu_gstreamer_mjpeg_trial5')\n",
    "cpu_gstreamer_mjpeg_trial6=pd.read_csv('raw_data/cpu_gstreamer_mjpeg_trial6')\n",
    "cpu_gstreamer_mjpeg_trial7=pd.read_csv('raw_data/cpu_gstreamer_mjpeg_trial7')\n",
    "#dataframes to calculate mean of column value\n",
    "df1=pd.DataFrame(cpu_gstreamer_mjpeg_trial1,columns=['value']).mean(axis=0)\n",
    "df2=pd.DataFrame(cpu_gstreamer_mjpeg_trial2,columns=['value']).mean(axis=0)\n",
    "df3=pd.DataFrame(cpu_gstreamer_mjpeg_trial3,columns=['value']).mean(axis=0)\n",
    "df4=pd.DataFrame(cpu_gstreamer_mjpeg_trial4,columns=['value']).mean(axis=0)\n",
    "df5=pd.DataFrame(cpu_gstreamer_mjpeg_trial5,columns=['value']).mean(axis=0)\n",
    "df6=pd.DataFrame(cpu_gstreamer_mjpeg_trial6,columns=['value']).mean(axis=0)\n",
    "df7=pd.DataFrame(cpu_gstreamer_mjpeg_trial7,columns=['value']).mean(axis=0)\n",
    "#concat dataframes\n",
    "bp7=pd.concat([df1,df2,df3,df4,df5,df6,df7])\n",
    "#plot boxplot\n",
    "plt.boxplot(bp7)\n",
    "plt.title('cpu_gstreamer_mjpeg')\n",
    "plt.ylabel('value')\n",
    "plt.show()\n",
    "bp7"
   ]
  },
  {
   "cell_type": "code",
   "execution_count": 33,
   "metadata": {},
   "outputs": [
    {
     "data": {
      "image/png": "[encoded data removed]",
      "text/plain": [
       "<Figure size 432x288 with 1 Axes>"
      ]
     },
     "metadata": {
      "needs_background": "light"
     },
     "output_type": "display_data"
    }
   ],
   "source": [
    "#grouped boxplot for all frameworks\n",
    "result=[bp1,bp2,bp3,bp4,bp5,bp6,bp7]\n",
    "plt.boxplot(result)\n",
    "plt.title('cpu_usage')\n",
    "plt.ylabel('value')\n",
    "plt.show()"
   ]
  },
  {
   "cell_type": "code",
   "execution_count": null,
   "metadata": {},
   "outputs": [],
   "source": []
  }
 ],
 "metadata": {
  "kernelspec": {
   "display_name": "Python 3",
   "language": "python",
   "name": "python3"
  },
  "language_info": {
   "codemirror_mode": {
    "name": "ipython",
    "version": 3
   },
   "file_extension": ".py",
   "mimetype": "text/x-python",
   "name": "python",
   "nbconvert_exporter": "python",
   "pygments_lexer": "ipython3",
   "version": "3.8.3"
  }
 },
 "nbformat": 4,
 "nbformat_minor": 4
}
